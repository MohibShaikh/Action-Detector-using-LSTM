{
  "metadata": {
    "kernelspec": {
      "language": "python",
      "display_name": "Python 3",
      "name": "python3"
    },
    "language_info": {
      "name": "python",
      "version": "3.10.13",
      "mimetype": "text/x-python",
      "codemirror_mode": {
        "name": "ipython",
        "version": 3
      },
      "pygments_lexer": "ipython3",
      "nbconvert_exporter": "python",
      "file_extension": ".py"
    },
    "kaggle": {
      "accelerator": "none",
      "dataSources": [],
      "dockerImageVersionId": 30684,
      "isInternetEnabled": true,
      "language": "python",
      "sourceType": "notebook",
      "isGpuEnabled": false
    },
    "colab": {
      "name": "Action Recognition",
      "provenance": [],
      "include_colab_link": true
    }
  },
  "nbformat_minor": 0,
  "nbformat": 4,
  "cells": [
    {
      "cell_type": "markdown",
      "metadata": {
        "id": "view-in-github",
        "colab_type": "text"
      },
      "source": [
        "<a href=\"https://colab.research.google.com/github/MohibShaikh/Action-Detector-using-LSTM/blob/main/Action_Recognition.ipynb\" target=\"_parent\"><img src=\"https://colab.research.google.com/assets/colab-badge.svg\" alt=\"Open In Colab\"/></a>"
      ]
    },
    {
      "cell_type": "markdown",
      "source": [
        "### *1. Installing Dependencies*"
      ],
      "metadata": {
        "id": "cl-h24G5gs1g"
      }
    },
    {
      "cell_type": "code",
      "source": [
        "!pip install tensorflow\n",
        "!pip install opencv-python\n",
        "!pip install mediapipe\n",
        "!pip install scikit-learn\n",
        "!pip install matplotlib"
      ],
      "metadata": {
        "_uuid": "8f2839f25d086af736a60e9eeb907d3b93b6e0e5",
        "_cell_guid": "b1076dfc-b9ad-4769-8c92-a6c4dae69d19",
        "execution": {
          "iopub.status.busy": "2024-04-13T21:53:11.651262Z",
          "iopub.execute_input": "2024-04-13T21:53:11.6519Z",
          "iopub.status.idle": "2024-04-13T21:53:27.16734Z",
          "shell.execute_reply.started": "2024-04-13T21:53:11.651859Z",
          "shell.execute_reply": "2024-04-13T21:53:27.16576Z"
        },
        "trusted": true,
        "id": "cakha3THgs1k"
      },
      "execution_count": null,
      "outputs": []
    },
    {
      "cell_type": "code",
      "source": [
        "import numpy as np\n",
        "from matplotlib import pyplot as plt\n",
        "import cv2\n",
        "import time\n",
        "import mediapipe as mp"
      ],
      "metadata": {
        "trusted": true,
        "id": "cYI8gSodgs1n"
      },
      "execution_count": null,
      "outputs": []
    },
    {
      "cell_type": "markdown",
      "source": [
        "### *2. Keypoints using MP Holistic*"
      ],
      "metadata": {
        "id": "UDmlyyTFgs1o"
      }
    },
    {
      "cell_type": "code",
      "source": [
        "mp_holistic = mp.solutions.holistic       # Holistic Model\n",
        "mp_drawing = mp.solutions.drawing_utils   # Drawing Utilities"
      ],
      "metadata": {
        "execution": {
          "iopub.status.busy": "2024-04-13T22:01:16.399417Z",
          "iopub.execute_input": "2024-04-13T22:01:16.40012Z",
          "iopub.status.idle": "2024-04-13T22:01:16.405319Z",
          "shell.execute_reply.started": "2024-04-13T22:01:16.400084Z",
          "shell.execute_reply": "2024-04-13T22:01:16.404043Z"
        },
        "trusted": true,
        "id": "TAkwNwoEgs1o"
      },
      "execution_count": null,
      "outputs": []
    },
    {
      "cell_type": "code",
      "source": [
        "def mediapipe_detection(image, model):\n",
        "    image = cv2.cvtColor(image, cv2.COLOR_BGR2RGB)\n",
        "    image.flag.writeable = False\n",
        "    results = model.process(image)\n",
        "    image.flag.writeable = True\n",
        "    image = cv2.cvtColor(image, cv2.COLOR_RGB2BGR)"
      ],
      "metadata": {
        "id": "FHtrGPg4gs1p"
      },
      "execution_count": null,
      "outputs": []
    },
    {
      "cell_type": "code",
      "source": [
        "cap = cv2.VideoCapture(2)\n",
        "while cap.isOpened():\n",
        "    ret,frame = cap.read()\n",
        "    cv2.imshow('OpenCV Feed',frame)\n",
        "\n",
        "    if cv2.waitkey(10) & 0xFF == ord('q'):\n",
        "        break\n",
        "cap.release()\n",
        "cv2.destroyAllWindows()"
      ],
      "metadata": {
        "trusted": true,
        "id": "wy7ZBOedgs1p"
      },
      "execution_count": null,
      "outputs": []
    },
    {
      "cell_type": "code",
      "source": [],
      "metadata": {
        "id": "v3rVAEymgs1q"
      },
      "execution_count": null,
      "outputs": []
    }
  ]
}